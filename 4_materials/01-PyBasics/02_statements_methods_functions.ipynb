{
 "cells": [
  {
   "cell_type": "markdown",
   "metadata": {},
   "source": [
    "<strong><font color='green' size=\"6\" >PYTHON STATEMENTS</font></strong> \n",
    "\n",
    "Learning about statements will allow you to be able to read other languages more easily in the future. If already know \n",
    "a different language this will rapidly accelerate your understanding of Python.\n",
    "\n",
    "**Indentation:** It is important to keep a good understanding of how indentation works in Python to maintain the structure and order of your code. Python is heavily driven by code indentation and whitespace, this means that code readability is a core part of the design of the Python language. e.g.\n",
    "           \n",
    "    if x:\n",
    "        if y:\n",
    "            code-statement\n",
    "    else:\n",
    "        another-code-statement"
   ]
  },
  {
   "cell_type": "markdown",
   "metadata": {},
   "source": [
    "# Python statements\n",
    "## `if, elif, else` \n",
    "\n",
    "`if` statements in Python allows us to tell the computer: \n",
    "    \n",
    "\"*Hey `if` this case happens, perform some action*\". \n",
    "\n",
    "We can then expand the idea further with `elif` and `else` statements, which allow us to tell the computer: \n",
    "\n",
    "\"*Hey `if` this case happens, perform some action. `Else, if` another case happens, perform some other action. `Else, if` none of the above cases happened, perform this action*\" \n",
    "\n",
    "code format:\n",
    "\n",
    "    if condition_01:\n",
    "        perform action_01\n",
    "    elif condition_02:\n",
    "        perform action_02\n",
    "    else: \n",
    "        perform action_03\n",
    "        \n",
    "**e.g.**"
   ]
  },
  {
   "cell_type": "code",
   "execution_count": null,
   "metadata": {},
   "outputs": [],
   "source": [
    "bank_name = 'SBI'\n",
    "\n",
    "if bank_name == 'HDFC':\n",
    "    print('Welcome to the HDFC Bank private limited!')\n",
    "elif bank_name == 'SBI':\n",
    "    print('Welcome to the State bank of India!')\n",
    "else:\n",
    "    print('The bank is unknown to us!')"
   ]
  },
  {
   "cell_type": "markdown",
   "metadata": {},
   "source": [
    "## `for` loops\n",
    "\n",
    "A `for` loop acts as an iterator in Python; it goes through items that are in a **sequence** or any other iterable item. \n",
    "\n",
    "code format:\n",
    "\n",
    "    for item in object:\n",
    "        statements to do stuff\n",
    "        \n",
    "The variable name used for the `item` is completely up to you. This `item` name can then be referenced inside your loop."
   ]
  },
  {
   "cell_type": "markdown",
   "metadata": {},
   "source": [
    "### Iterating through a list"
   ]
  },
  {
   "cell_type": "code",
   "execution_count": null,
   "metadata": {},
   "outputs": [],
   "source": [
    "my_list = [1,2,3,4,5,6,7,8,9,10]\n",
    "\n",
    "for list_elements in my_list:\n",
    "    print(list_elements)"
   ]
  },
  {
   "cell_type": "markdown",
   "metadata": {},
   "source": [
    "Printing only the even numbers from that list! using the `if` statement"
   ]
  },
  {
   "cell_type": "code",
   "execution_count": null,
   "metadata": {},
   "outputs": [],
   "source": [
    "for list_elements in my_list:\n",
    "    if list_elements % 2 == 0:\n",
    "        print(list_elements)"
   ]
  },
  {
   "cell_type": "markdown",
   "metadata": {},
   "source": [
    "Sum of the elements in the list"
   ]
  },
  {
   "cell_type": "code",
   "execution_count": null,
   "metadata": {},
   "outputs": [],
   "source": [
    "sum_of_list_elements = 0 \n",
    "\n",
    "for list_elements in my_list:\n",
    "    # sum_of_list_elements = sum_of_list_elements + list_elements\n",
    "    sum_of_list_elements += list_elements\n",
    "\n",
    "sum_of_list_elements"
   ]
  },
  {
   "cell_type": "markdown",
   "metadata": {},
   "source": [
    "### Iterating through a strings\n",
    "\n",
    "Strings are a sequence so when we iterate through them we will be accessing each item in that string."
   ]
  },
  {
   "cell_type": "code",
   "execution_count": null,
   "metadata": {
    "scrolled": true
   },
   "outputs": [],
   "source": [
    "for letter in 'This is a string':\n",
    "    print(letter)"
   ]
  },
  {
   "cell_type": "markdown",
   "metadata": {},
   "source": [
    "### Iterating through a tuple\n",
    "\n",
    "Tuples have a special quality when it comes to `for` loops. If you are iterating through a sequence that contains tuples, the item can actually be the tuple itself, this is an example of *tuple unpacking*. During the `for` loop we will be unpacking the tuple inside of a sequence and we can access the individual items inside that tuple. The reason this is important is because many objects will deliver their iterables through tuples."
   ]
  },
  {
   "cell_type": "code",
   "execution_count": null,
   "metadata": {},
   "outputs": [],
   "source": [
    "my_tuple = (1,2,3,4,5)\n",
    "\n",
    "for tuple_elements in my_tuple:\n",
    "    print(tuple_elements)"
   ]
  },
  {
   "cell_type": "code",
   "execution_count": null,
   "metadata": {},
   "outputs": [],
   "source": [
    "my_tuple_list = [(2,4),(6,8),(10,12)]\n",
    "\n",
    "for tuple in my_tuple_list:\n",
    "    print(tuple)"
   ]
  },
  {
   "cell_type": "markdown",
   "metadata": {},
   "source": [
    "Now with tuple unpacking"
   ]
  },
  {
   "cell_type": "code",
   "execution_count": null,
   "metadata": {},
   "outputs": [],
   "source": [
    "for (t1, t2) in my_tuple_list:\n",
    "    print(t1)"
   ]
  },
  {
   "cell_type": "markdown",
   "metadata": {},
   "source": [
    "### Iterating through a Dictionaries"
   ]
  },
  {
   "cell_type": "code",
   "execution_count": null,
   "metadata": {},
   "outputs": [],
   "source": [
    "my_dict = {'k1':1,'k2':2,'k3':3}\n",
    "\n",
    "for dict_elements in my_dict:\n",
    "    print(dict_elements)"
   ]
  },
  {
   "cell_type": "markdown",
   "metadata": {},
   "source": [
    "Dictionary unpacking"
   ]
  },
  {
   "cell_type": "code",
   "execution_count": null,
   "metadata": {},
   "outputs": [],
   "source": [
    "my_dict.items()"
   ]
  },
  {
   "cell_type": "code",
   "execution_count": null,
   "metadata": {},
   "outputs": [],
   "source": [
    "for keys,values in my_dict.items():\n",
    "    print(keys)\n",
    "    print(values) "
   ]
  },
  {
   "cell_type": "markdown",
   "metadata": {},
   "source": [
    "## `while` loops\n",
    "A `while` statement will repeatedly execute a single statement or group of statements as long as the condition is true. The general format of a while loop is:\n",
    "\n",
    "    while condition:\n",
    "        code statements\n",
    "    else:\n",
    "        some other code statements\n",
    "        \n",
    "        \n",
    "<strong><font color='red'>CAUTION !!! DO NOT RUN THIS CODE </font></strong> \n",
    "\n",
    "    while True:\n",
    "        print(\"I'm stuck in an infinite loop!\")"
   ]
  },
  {
   "cell_type": "code",
   "execution_count": null,
   "metadata": {
    "scrolled": true
   },
   "outputs": [],
   "source": [
    "iteration = 0\n",
    "target = 10\n",
    "\n",
    "while iteration < target:\n",
    "    print('iteration =',iteration,', which is still less than the value defined above, moving on to the next iteration')\n",
    "    iteration+=1\n",
    "else:\n",
    "    print('\\n !! All Done !!, the iteration has reached the defined target =', target)"
   ]
  },
  {
   "cell_type": "markdown",
   "metadata": {},
   "source": [
    "**break, continue, pass**\n",
    "\n",
    "`break`, `continue`, and `pass` statements in our loops are additional functionality for various cases.\n",
    "\n",
    "- `break`: Breaks out of the current closest enclosing loop.\n",
    "- `continue`: Goes to the top of the closest enclosing loop.\n",
    "- `pass`: Does nothing at all.\n",
    "\n",
    "`break` and `continue` statements can appear anywhere inside the loop’s body, but usually put use them with an `if` statement to perform an action based on some condition."
   ]
  },
  {
   "cell_type": "code",
   "execution_count": null,
   "metadata": {},
   "outputs": [],
   "source": [
    "x = 0\n",
    "b = 6\n",
    "\n",
    "while x < 10:\n",
    "    print('x = ', x)\n",
    "    x+=1\n",
    "    if x==b:\n",
    "        print('Breaking because x is equal to',b)\n",
    "        break        \n",
    "    else:\n",
    "        print('continuing...')\n",
    "        continue"
   ]
  },
  {
   "cell_type": "markdown",
   "metadata": {},
   "source": [
    "## `generators`\n",
    "Its a special type of function that will generate information and not need to save it to memory. We need to cast the **`generator`** function to a list with `list()` so to actually get a list out of it.\n",
    "\n",
    "## range\n",
    "The range function allows to quickly generate a list of integers. There are 3 parameters we can pass, a `start`, a `stop`, and a `step` size."
   ]
  },
  {
   "cell_type": "code",
   "execution_count": null,
   "metadata": {},
   "outputs": [],
   "source": [
    "my_range = range(0, 11, 1)\n",
    "my_range"
   ]
  },
  {
   "cell_type": "code",
   "execution_count": null,
   "metadata": {},
   "outputs": [],
   "source": [
    "type(my_range)"
   ]
  },
  {
   "cell_type": "markdown",
   "metadata": {},
   "source": [
    "Notice how 11 is not included, up to but not including 11, just like slice notation!"
   ]
  },
  {
   "cell_type": "code",
   "execution_count": null,
   "metadata": {},
   "outputs": [],
   "source": [
    "list(my_range)"
   ]
  },
  {
   "cell_type": "markdown",
   "metadata": {},
   "source": [
    "## enumerate\n",
    "\n",
    "The `enumerate` is a very useful function to use with `for` loops. The enumerate was created so you don't need to worry about creating and updating this `index_count` or `loop_count` variable."
   ]
  },
  {
   "cell_type": "code",
   "execution_count": null,
   "metadata": {},
   "outputs": [],
   "source": [
    "my_string = 'abc'\n",
    "\n",
    "for i,letter in enumerate(my_string):\n",
    "    print(\"at index {} the letter is {}\".format(i,letter))"
   ]
  },
  {
   "cell_type": "markdown",
   "metadata": {},
   "source": [
    "Notice the format (tuples) enumerate actually returns"
   ]
  },
  {
   "cell_type": "code",
   "execution_count": null,
   "metadata": {},
   "outputs": [],
   "source": [
    "list(enumerate(my_string))"
   ]
  },
  {
   "cell_type": "markdown",
   "metadata": {},
   "source": [
    "## zip\n",
    "`zip()` function quickly creates a list of tuples by \"zipping\" up together two lists. This can be used as a generator in a for loop."
   ]
  },
  {
   "cell_type": "code",
   "execution_count": null,
   "metadata": {},
   "outputs": [],
   "source": [
    "my_list_1 = [1,2,3,4,5]\n",
    "my_list_2 = ['a','b','c','d','e']\n",
    "my_zip = list(zip(my_list_1,my_list_2))\n",
    "my_zip"
   ]
  },
  {
   "cell_type": "code",
   "execution_count": null,
   "metadata": {},
   "outputs": [],
   "source": [
    "for item_1, item_2 in my_zip:\n",
    "    print('The first item is: {} and the second item is {}'.format(item_1, item_2))"
   ]
  },
  {
   "cell_type": "markdown",
   "metadata": {},
   "source": [
    "## in operator\n",
    "We've already seen the `in` keyword during the `for` loop. We can also use it to quickly check if an object is in a list."
   ]
  },
  {
   "cell_type": "code",
   "execution_count": null,
   "metadata": {},
   "outputs": [],
   "source": [
    "'x' in [1,2,3]"
   ]
  },
  {
   "cell_type": "code",
   "execution_count": null,
   "metadata": {},
   "outputs": [],
   "source": [
    "'x' in ['x','y','z']"
   ]
  },
  {
   "cell_type": "markdown",
   "metadata": {},
   "source": [
    "## min and max\n",
    "Quickly check the minimum or maximum of a list with these functions."
   ]
  },
  {
   "cell_type": "code",
   "execution_count": null,
   "metadata": {},
   "outputs": [],
   "source": [
    "my_list = [10,20,30,40,100]"
   ]
  },
  {
   "cell_type": "code",
   "execution_count": null,
   "metadata": {},
   "outputs": [],
   "source": [
    "min(my_list)"
   ]
  },
  {
   "cell_type": "code",
   "execution_count": null,
   "metadata": {},
   "outputs": [],
   "source": [
    "max(my_list)"
   ]
  },
  {
   "cell_type": "markdown",
   "metadata": {},
   "source": [
    "## random\n",
    "Python comes with a built in random library. There are a lot of functions included in this random library, let's check two useful functions for now.\n",
    "\n",
    "This following code meaning it won't return anything, instead it will effect the list passed."
   ]
  },
  {
   "cell_type": "code",
   "execution_count": null,
   "metadata": {},
   "outputs": [],
   "source": [
    "from random import shuffle\n",
    "from random import randint\n",
    "\n",
    "shuffle(my_list); \n",
    "my_list # shuffles the list \"in-place\" "
   ]
  },
  {
   "cell_type": "code",
   "execution_count": null,
   "metadata": {},
   "outputs": [],
   "source": [
    "randint(0,100) # Return random integer in range [a, b], including both end points."
   ]
  },
  {
   "cell_type": "markdown",
   "metadata": {},
   "source": [
    "## input"
   ]
  },
  {
   "cell_type": "code",
   "execution_count": null,
   "metadata": {},
   "outputs": [],
   "source": [
    "input('Enter Something into this box: ')"
   ]
  },
  {
   "cell_type": "markdown",
   "metadata": {},
   "source": [
    "# List Comprehensions\n",
    "\n",
    "List comprehensions allows to build out lists using a different notation. You can think of it as essentially a one line `for` loop built inside of brackets."
   ]
  },
  {
   "cell_type": "code",
   "execution_count": null,
   "metadata": {},
   "outputs": [],
   "source": [
    "[x for x in 'word'] # Grab every letter in string"
   ]
  },
  {
   "cell_type": "code",
   "execution_count": null,
   "metadata": {},
   "outputs": [],
   "source": [
    "[x**2 for x in range(0,11)] # Square numbers in range and turn into list"
   ]
  },
  {
   "cell_type": "code",
   "execution_count": null,
   "metadata": {},
   "outputs": [],
   "source": [
    "[x for x in range(11) if x % 2 == 0] # Check for even numbers in a range"
   ]
  },
  {
   "cell_type": "code",
   "execution_count": null,
   "metadata": {},
   "outputs": [],
   "source": [
    "[ x**2 for x in [x**2 for x in range(11)]] # nested list comprehensions"
   ]
  },
  {
   "cell_type": "markdown",
   "metadata": {},
   "source": [
    "# Methods for objects\n",
    "Methods are essentially functions built into objects. Methods perform specific actions on an object and can also take arguments, just like a function. We can create our own objects and methods using Object Oriented Programming (OOP) and classes. Methods are in the form:\n",
    "\n",
    "    object.method(arg_1,arg_2,etc...)\n",
    "    \n",
    "Fortunately, with **Jupyter Notebook** we can quickly see all the possible methods using the tab key. The methods for a list are:\n",
    "\n",
    "* `append`: allows us to add elements to the end of a list\n",
    "* `count`: count the number of occurrences of an element in a list\n",
    "* `extend`\n",
    "* `insert`\n",
    "* `pop`\n",
    "* `remove`\n",
    "* `reverse`\n",
    "* `sort`\n",
    "\n",
    "You can always use `Shift+Tab` in the Jupyter Notebook to get more help about the method. In general, you can use the `help()` function. "
   ]
  },
  {
   "cell_type": "code",
   "execution_count": null,
   "metadata": {},
   "outputs": [],
   "source": [
    "my_list = [1,2,3,4,5] # Create a simple list"
   ]
  },
  {
   "cell_type": "code",
   "execution_count": null,
   "metadata": {},
   "outputs": [],
   "source": [
    "my_list.append(2) # add elements to the end of a list\n",
    "my_list"
   ]
  },
  {
   "cell_type": "code",
   "execution_count": null,
   "metadata": {},
   "outputs": [],
   "source": [
    "my_list.count()"
   ]
  },
  {
   "cell_type": "code",
   "execution_count": null,
   "metadata": {},
   "outputs": [],
   "source": [
    "my_list.count(2) # Check how many times 2 shows up in the list"
   ]
  },
  {
   "cell_type": "markdown",
   "metadata": {},
   "source": [
    "Feel free to play around with the rest of the methods for a list. "
   ]
  },
  {
   "cell_type": "markdown",
   "metadata": {},
   "source": [
    "# Functions\n",
    "- Are one of our main building blocks when we construct larger and larger amounts of code to solve problems. \n",
    "- An useful device that groups together a set of statements, so they can be run more than once. \n",
    "- Can also let us specify parameters that can serve as inputs to the functions. \n",
    "- Allow us to not have to repeatedly write the same code again and again\n",
    "- Allow us to start thinking of program design\n",
    "\n",
    "It has the following form:\n",
    "\n",
    "    def name_of_function(arg_1,arg_2):\n",
    "        '''\n",
    "        Here we write a basic description of the function(docstring). You'll be able to read these docstrings by \n",
    "        pressing Shift+Tab after a function name - OPTIONAL\n",
    "        '''\n",
    "        # Do stuff here\n",
    "        # Return desired result\n",
    "        \n",
    "- Try to keep names relevant, for example `len()` is a good name for a `length()` function\n",
    "- <strong><font color='red'>Caution !!</font></strong> you wouldn't want to call a function the same name as a [built-in function in Python](https://docs.python.org/2/library/functions.html) (such as `len`)\n",
    "- <strong><font color='green'>Important !!</font></strong> you must indent to begin the code inside your function correctly. Python makes use of **whitespace** to organize code"
   ]
  },
  {
   "cell_type": "code",
   "execution_count": null,
   "metadata": {},
   "outputs": [],
   "source": [
    "# example 1: with no arguments\n",
    "def say_hello():\n",
    "    '''\n",
    "    A simple print 'hello' function.\n",
    "    '''\n",
    "    print('hello')\n",
    "\n",
    "say_hello()"
   ]
  },
  {
   "cell_type": "code",
   "execution_count": null,
   "metadata": {},
   "outputs": [],
   "source": [
    "# example 2:  with one argument\n",
    "def greeting(name):\n",
    "    '''\n",
    "    A function that greets people with their name.\n",
    "    '''\n",
    "    print('Hello %s' %(name))\n",
    "\n",
    "greeting('Rakesh')"
   ]
  },
  {
   "cell_type": "markdown",
   "metadata": {},
   "source": [
    "**Using `return`**: `return` allows a function to **return** a result that can then be stored as a variable, or used in whatever manner a user wants."
   ]
  },
  {
   "cell_type": "code",
   "execution_count": null,
   "metadata": {},
   "outputs": [],
   "source": [
    "# example 3:  with two argument\n",
    "def add_num(num_1,num_2):\n",
    "    return num_1+num_2\n",
    "\n",
    "output = add_num(4,5)\n",
    "output"
   ]
  },
  {
   "cell_type": "markdown",
   "metadata": {},
   "source": [
    "**Note** that because we don't declare variable types in Python, this function could be used to add numbers or sequences together"
   ]
  },
  {
   "cell_type": "code",
   "execution_count": null,
   "metadata": {},
   "outputs": [],
   "source": [
    "add_num('one','two') # if we input two strings"
   ]
  },
  {
   "cell_type": "code",
   "execution_count": null,
   "metadata": {},
   "outputs": [],
   "source": [
    "# example 4:  using break, continue and pass statements in our code.\n",
    "def is_prime(num):\n",
    "    '''\n",
    "    Function to check if a number is prime (a common interview exercise).\n",
    "    '''\n",
    "    for n in range(2,num):\n",
    "        if num % n == 0:\n",
    "            print(num,'is not prime')\n",
    "            break\n",
    "    else: \n",
    "        print(num,'is prime!')"
   ]
  },
  {
   "cell_type": "code",
   "execution_count": null,
   "metadata": {},
   "outputs": [],
   "source": [
    "is_prime(27)"
   ]
  },
  {
   "cell_type": "code",
   "execution_count": null,
   "metadata": {},
   "outputs": [],
   "source": [
    "is_prime(19)"
   ]
  },
  {
   "cell_type": "code",
   "execution_count": null,
   "metadata": {},
   "outputs": [],
   "source": [
    "# example 5:  using break, continue and pass statements in our code. \n",
    "# It should be noted that as soon as a function returns something, it shuts down. \n",
    "# A function can deliver multiple print statements, but it will only obey one return.\n",
    "import math\n",
    "def is_prime2(num):\n",
    "    '''\n",
    "    Better method of checking for primes. \n",
    "    '''\n",
    "    if num % 2 == 0 and num > 2: \n",
    "        return False\n",
    "    for i in range(3, int(math.sqrt(num)) + 1, 2):\n",
    "        if num % i == 0:\n",
    "            return False\n",
    "    return True"
   ]
  },
  {
   "cell_type": "code",
   "execution_count": null,
   "metadata": {},
   "outputs": [],
   "source": [
    "is_prime2(18)"
   ]
  },
  {
   "cell_type": "markdown",
   "metadata": {},
   "source": [
    "## `map` function\n",
    "\n",
    "The **map** function allows you to \"map\" a function to an iterable object. i.e. you can quickly call the same function to every item in an iterable.\n",
    "    "
   ]
  },
  {
   "cell_type": "code",
   "execution_count": null,
   "metadata": {},
   "outputs": [],
   "source": [
    "my_list = [0,1,2,3,4,5,6,7,8,9,10]\n",
    "\n",
    "def square(num):\n",
    "    '''\n",
    "    function to square a number\n",
    "    '''\n",
    "    return num**2"
   ]
  },
  {
   "cell_type": "code",
   "execution_count": null,
   "metadata": {},
   "outputs": [],
   "source": [
    "# To get the results, either we iterate through map() or just cast to a list\n",
    "list(map(square,my_list))"
   ]
  },
  {
   "cell_type": "markdown",
   "metadata": {},
   "source": [
    "## `filter` function\n",
    "\n",
    "The filter function returns an iterator yielding those items of iterable for which function(item) is true. Meaning you need to filter by a function that returns either `True` or `False`. Then passing that into filter (along with your iterable) and you will get back only the results that would return `True` when passed to the function."
   ]
  },
  {
   "cell_type": "code",
   "execution_count": null,
   "metadata": {},
   "outputs": [],
   "source": [
    "def check_even(num):\n",
    "    '''\n",
    "    function to check if the number is even\n",
    "    '''\n",
    "    return num % 2 == 0 "
   ]
  },
  {
   "cell_type": "code",
   "execution_count": null,
   "metadata": {},
   "outputs": [],
   "source": [
    "list(filter(check_even,my_list))"
   ]
  },
  {
   "cell_type": "markdown",
   "metadata": {},
   "source": [
    "## `lambda` expression\n",
    "One of Pythons most useful tools is the `lambda` expression. `lambda` expressions allow us to create **anonymous** functions. This basically means we can quickly make ad-hoc functions without needing to properly define a function using `def`. The key difference that makes `lambda` useful in specialized role is **`lambda`'s body is a single expression, not a block of statements.** `lambda` is designed for coding simple functions, and `def` handles the larger tasks."
   ]
  },
  {
   "cell_type": "code",
   "execution_count": null,
   "metadata": {},
   "outputs": [],
   "source": [
    "square = lambda num: num **2 # normally we wouldn't usually assign a name to a lambda expression\n",
    "square(2)"
   ]
  },
  {
   "cell_type": "code",
   "execution_count": null,
   "metadata": {},
   "outputs": [],
   "source": [
    "list(map(lambda num: num ** 2, my_list)) # replacing the square function"
   ]
  },
  {
   "cell_type": "markdown",
   "metadata": {},
   "source": [
    "# Scope of a variable\n",
    "It's important to understand how Python deals with the variable names you assign. When you create a variable name in Python the name is stored in a **name-space**. The **scope** determines the visibility of that variable name to other parts of your code. This idea of scope in your code is very important to understand in order to properly assign and call variable names. \n",
    "\n",
    "example to understand the scenario:"
   ]
  },
  {
   "cell_type": "code",
   "execution_count": null,
   "metadata": {},
   "outputs": [],
   "source": [
    "x = 25 # x is global variable\n",
    "\n",
    "def printer():\n",
    "    x = 50 # x is local here\n",
    "    return x\n",
    "\n",
    "x"
   ]
  },
  {
   "cell_type": "code",
   "execution_count": null,
   "metadata": {},
   "outputs": [],
   "source": [
    "printer()"
   ]
  },
  {
   "cell_type": "markdown",
   "metadata": {},
   "source": [
    "<strong><font color='blue'>Interesting!!</font></strong>  \n",
    "But how does Python know which `x` you're referring to in your code? This is where the idea of **scope** comes in. Python has a set of rules it follows to decide what variables (such as `x` in this case) you are referencing in your code. The idea of scope can be described by 3 general rules (**LEGB Rule:**):\n",
    "\n",
    "- **L** (Local): Names assigned in any way within a function (`def` or `lambda`), and not declared global in that function.\n",
    "- **E** (Enclosing function locals): Names in the local scope of any and all enclosing functions (`def` or `lambda`), from inner to outer.\n",
    "- **G** (Global): Names assigned at the top-level of a module file, or declared global in a def within the file.\n",
    "- **B** (Built-in): Names preassigned in the built-in names module : `open`, `range`, `SyntaxError`, ..."
   ]
  },
  {
   "cell_type": "markdown",
   "metadata": {},
   "source": [
    "## Local"
   ]
  },
  {
   "cell_type": "code",
   "execution_count": null,
   "metadata": {},
   "outputs": [],
   "source": [
    "f = lambda x:x**2\n",
    "f(2)"
   ]
  },
  {
   "cell_type": "markdown",
   "metadata": {},
   "source": [
    "## Enclosing function locals\n",
    "When you declare variables inside a function definition, they are not related in any way to other variables with the same names used outside the function - i.e. variable names are local to the function. This is called the scope of the variable. Note below how `Rakesh` was used, because the `hello()` function was enclosed inside of the `greet()` function. In Jupyter a quick way to test for global variables is to see if another cell recognizes the variable!"
   ]
  },
  {
   "cell_type": "code",
   "execution_count": null,
   "metadata": {},
   "outputs": [],
   "source": [
    "name = 'Rohit'\n",
    "\n",
    "def greet():\n",
    "    \n",
    "    name = 'Rakesh' # Enclosing function\n",
    "    \n",
    "    def hello():\n",
    "        print('Hello '+name)\n",
    "    \n",
    "    hello()\n",
    "\n",
    "greet()"
   ]
  },
  {
   "cell_type": "markdown",
   "metadata": {},
   "source": [
    "## Global"
   ]
  },
  {
   "cell_type": "code",
   "execution_count": null,
   "metadata": {
    "scrolled": true
   },
   "outputs": [],
   "source": [
    "name # global variable defined above"
   ]
  },
  {
   "cell_type": "code",
   "execution_count": null,
   "metadata": {},
   "outputs": [],
   "source": [
    "def greet_global():\n",
    "    \n",
    "    global name\n",
    "    \n",
    "    def hello():\n",
    "        print('Hello '+name)\n",
    "    \n",
    "    hello()\n",
    "\n",
    "greet_global()"
   ]
  },
  {
   "cell_type": "markdown",
   "metadata": {},
   "source": [
    "## Built-in\n",
    "These are function names in Python, <strong><font color='red'>don't overwrite these!</font></strong>"
   ]
  },
  {
   "cell_type": "code",
   "execution_count": null,
   "metadata": {},
   "outputs": [],
   "source": [
    "len"
   ]
  },
  {
   "cell_type": "markdown",
   "metadata": {},
   "source": [
    "You can specify more than one global variable using the same global statement e.g. `global x, y, z`. You can use the **`globals()`** and **`locals()`** functions to check what are your current local and global variables."
   ]
  },
  {
   "cell_type": "markdown",
   "metadata": {},
   "source": [
    "# `*args` and `**kwargs`\n",
    "\n",
    "This function defined below returns the sum of `a, b, c, d`."
   ]
  },
  {
   "cell_type": "code",
   "execution_count": null,
   "metadata": {},
   "outputs": [],
   "source": [
    "def add_numbers(a=0,b=0,c=0,d=0):\n",
    "    return sum((a,b,c,d))\n",
    "\n",
    "add_numbers(1,2,3,4)"
   ]
  },
  {
   "cell_type": "markdown",
   "metadata": {},
   "source": [
    "What if we want to work with more than 4 numbers? One way would be to **assign a lot of parameters**, and give each one a default value. Obviously this is not a very efficient solution, and that's where `*args` comes in."
   ]
  },
  {
   "cell_type": "markdown",
   "metadata": {},
   "source": [
    "## `*args`\n",
    "When a function parameter starts with an asterisk, it allows for an *arbitrary number* of arguments, and the function takes them in as a `tuple` of values. Rewriting the above function:"
   ]
  },
  {
   "cell_type": "code",
   "execution_count": null,
   "metadata": {},
   "outputs": [],
   "source": [
    "def add_numbers(*args):\n",
    "    return sum((args))\n",
    "\n",
    "add_numbers(1,2,3,4)"
   ]
  },
  {
   "cell_type": "markdown",
   "metadata": {},
   "source": [
    "## `**kwargs`\n",
    "\n",
    "Similarly, Python offers a way to handle arbitrary numbers of `keyworded` arguments. Instead of creating a tuple of values, `**kwargs` builds a dictionary of key/value pairs. For example:"
   ]
  },
  {
   "cell_type": "code",
   "execution_count": null,
   "metadata": {},
   "outputs": [],
   "source": [
    "def favourite_food(**kwargs):\n",
    "    if 'fruit' in kwargs:\n",
    "        print(f\"I like {kwargs['fruit']}\") \n",
    "    else:\n",
    "        print(\"I don't like fruits\")\n",
    "        \n",
    "favourite_food(fruit='mango')"
   ]
  },
  {
   "cell_type": "code",
   "execution_count": null,
   "metadata": {},
   "outputs": [],
   "source": [
    "favourite_food(snacks='cutlet')"
   ]
  },
  {
   "cell_type": "markdown",
   "metadata": {},
   "source": [
    "## combined `*args` & `**kwargs`\n",
    "\n",
    "You can pass `*args` and `**kwargs` into the same function, but `*args` have to appear before `**kwargs`"
   ]
  },
  {
   "cell_type": "code",
   "execution_count": null,
   "metadata": {},
   "outputs": [],
   "source": [
    "def favourite_food(*args, **kwargs):\n",
    "    \n",
    "    if 'fruit' in kwargs:\n",
    "        print(f\"I like {' and '.join(args)} and my favorite fruit is {kwargs['fruit']}.\") \n",
    "    else:\n",
    "        print(\"I don't like fruits\")\n",
    "        \n",
    "favourite_food('chicken', 'fish', fruit='mango')"
   ]
  }
 ],
 "metadata": {
  "kernelspec": {
   "display_name": "Python 3",
   "language": "python",
   "name": "python3"
  },
  "language_info": {
   "codemirror_mode": {
    "name": "ipython",
    "version": 3
   },
   "file_extension": ".py",
   "mimetype": "text/x-python",
   "name": "python",
   "nbconvert_exporter": "python",
   "pygments_lexer": "ipython3",
   "version": "3.8.2"
  },
  "toc": {
   "base_numbering": 1,
   "nav_menu": {},
   "number_sections": true,
   "sideBar": true,
   "skip_h1_title": false,
   "title_cell": "Table of Contents",
   "title_sidebar": "Contents",
   "toc_cell": false,
   "toc_position": {
    "height": "calc(100% - 180px)",
    "left": "10px",
    "top": "150px",
    "width": "225px"
   },
   "toc_section_display": true,
   "toc_window_display": true
  }
 },
 "nbformat": 4,
 "nbformat_minor": 2
}
